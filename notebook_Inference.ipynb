{
 "cells": [
  {
   "cell_type": "markdown",
   "metadata": {},
   "source": [
    "# Model inference\n"
   ]
  },
  {
   "cell_type": "markdown",
   "metadata": {},
   "source": [
    "## Perkenalan"
   ]
  },
  {
   "cell_type": "markdown",
   "metadata": {},
   "source": [
    ">Latar Belakang     :  \n",
    "\n",
    "Perusahaan kartu kredit ,emiliki informasi terkait penggunaa kartu kredit kredit, seperti informasi demografis tentang pemegang kartu (sex, education level, marital status, age), repayment status (status pelunasan), bill statement(tagihan), previous payment(pembayaran yang dilakukan untuk melunasi).  \n",
    "Dari data yang dimiliki oleh perusahaan, perushaan ingin memprediksi kemungkinan pengguna kartu kredit mengalami default(tidak membayar tagihan tepat waktu) atau tidak.\n",
    "\n",
    ">Objective          :\n",
    "\n",
    "Projek ini ingin membangun model `prediksi default` kartu kredit dengan dataset yang disediakan. Dengan cara membuat model dari 3 pilihan logistic regression, SVM, KNN dan nanti model akan dievaluasi menggunakan f1 score. Lalu nanti didapat best model yang dapat digunakan untuk melakukan prediksi."
   ]
  },
  {
   "cell_type": "markdown",
   "metadata": {},
   "source": [
    "## Import Libraries"
   ]
  },
  {
   "cell_type": "code",
   "execution_count": 1,
   "metadata": {},
   "outputs": [],
   "source": [
    "# import library\n",
    "import pandas as pd\n",
    "import numpy as np\n",
    "import pickle\n",
    "import json"
   ]
  },
  {
   "cell_type": "markdown",
   "metadata": {},
   "source": [
    "## Load data"
   ]
  },
  {
   "cell_type": "code",
   "execution_count": 2,
   "metadata": {},
   "outputs": [],
   "source": [
    "# load the files!\n",
    "with open('best_model.pkl','rb') as file_1: # rb = read binary\n",
    "    model_lin = pickle.load(file_1)"
   ]
  },
  {
   "cell_type": "markdown",
   "metadata": {},
   "source": [
    "## Load data yang sudah di pisahakan untuk inference"
   ]
  },
  {
   "cell_type": "code",
   "execution_count": 3,
   "metadata": {},
   "outputs": [
    {
     "data": {
      "text/html": [
       "<div>\n",
       "<style scoped>\n",
       "    .dataframe tbody tr th:only-of-type {\n",
       "        vertical-align: middle;\n",
       "    }\n",
       "\n",
       "    .dataframe tbody tr th {\n",
       "        vertical-align: top;\n",
       "    }\n",
       "\n",
       "    .dataframe thead th {\n",
       "        text-align: right;\n",
       "    }\n",
       "</style>\n",
       "<table border=\"1\" class=\"dataframe\">\n",
       "  <thead>\n",
       "    <tr style=\"text-align: right;\">\n",
       "      <th></th>\n",
       "      <th>Unnamed: 0</th>\n",
       "      <th>limit_balance</th>\n",
       "      <th>sex</th>\n",
       "      <th>education_level</th>\n",
       "      <th>martial_status</th>\n",
       "      <th>age</th>\n",
       "      <th>pay_0</th>\n",
       "      <th>pay_2</th>\n",
       "      <th>pay_3</th>\n",
       "      <th>pay_4</th>\n",
       "      <th>...</th>\n",
       "      <th>bill_amt_3</th>\n",
       "      <th>bill_amt_4</th>\n",
       "      <th>bill_amt_5</th>\n",
       "      <th>bill_amt_6</th>\n",
       "      <th>pay_amt_1</th>\n",
       "      <th>pay_amt_2</th>\n",
       "      <th>pay_amt_3</th>\n",
       "      <th>pay_amt_4</th>\n",
       "      <th>pay_amt_5</th>\n",
       "      <th>pay_amt_6</th>\n",
       "    </tr>\n",
       "  </thead>\n",
       "  <tbody>\n",
       "    <tr>\n",
       "      <th>0</th>\n",
       "      <td>0</td>\n",
       "      <td>240000.0</td>\n",
       "      <td>2</td>\n",
       "      <td>2</td>\n",
       "      <td>1</td>\n",
       "      <td>41.0</td>\n",
       "      <td>1.0</td>\n",
       "      <td>-1.0</td>\n",
       "      <td>-1.0</td>\n",
       "      <td>-1.0</td>\n",
       "      <td>...</td>\n",
       "      <td>3211.0</td>\n",
       "      <td>9795.0</td>\n",
       "      <td>11756.0</td>\n",
       "      <td>12522.0</td>\n",
       "      <td>40529.0</td>\n",
       "      <td>3211.0</td>\n",
       "      <td>9795.0</td>\n",
       "      <td>11756.0</td>\n",
       "      <td>12522.0</td>\n",
       "      <td>6199.0</td>\n",
       "    </tr>\n",
       "  </tbody>\n",
       "</table>\n",
       "<p>1 rows × 24 columns</p>\n",
       "</div>"
      ],
      "text/plain": [
       "   Unnamed: 0  limit_balance  sex  education_level  martial_status   age  \\\n",
       "0           0       240000.0    2                2               1  41.0   \n",
       "\n",
       "   pay_0  pay_2  pay_3  pay_4  ...  bill_amt_3  bill_amt_4  bill_amt_5  \\\n",
       "0    1.0   -1.0   -1.0   -1.0  ...      3211.0      9795.0     11756.0   \n",
       "\n",
       "   bill_amt_6  pay_amt_1  pay_amt_2  pay_amt_3  pay_amt_4  pay_amt_5  \\\n",
       "0     12522.0    40529.0     3211.0     9795.0    11756.0    12522.0   \n",
       "\n",
       "   pay_amt_6  \n",
       "0     6199.0  \n",
       "\n",
       "[1 rows x 24 columns]"
      ]
     },
     "execution_count": 3,
     "metadata": {},
     "output_type": "execute_result"
    }
   ],
   "source": [
    "#Create new data\n",
    "df_inf = pd.read_csv('data_tanpa_default_payment_next_month')\n",
    "df_inf"
   ]
  },
  {
   "cell_type": "markdown",
   "metadata": {},
   "source": [
    "## Melakukan prediksi"
   ]
  },
  {
   "cell_type": "code",
   "execution_count": 5,
   "metadata": {},
   "outputs": [
    {
     "name": "stdout",
     "output_type": "stream",
     "text": [
      "Prediksi: Not Default Payment\n"
     ]
    }
   ],
   "source": [
    "# predict using linear regression\n",
    "y_pred_inf = model_lin.predict(df_inf)\n",
    "\n",
    "if y_pred_inf == 1:\n",
    "    print('Prediksi: Default Payment')\n",
    "else:\n",
    "    print('Prediksi: Not Default Payment')"
   ]
  }
 ],
 "metadata": {
  "kernelspec": {
   "display_name": "base",
   "language": "python",
   "name": "python3"
  },
  "language_info": {
   "codemirror_mode": {
    "name": "ipython",
    "version": 3
   },
   "file_extension": ".py",
   "mimetype": "text/x-python",
   "name": "python",
   "nbconvert_exporter": "python",
   "pygments_lexer": "ipython3",
   "version": "3.11.7"
  }
 },
 "nbformat": 4,
 "nbformat_minor": 2
}
